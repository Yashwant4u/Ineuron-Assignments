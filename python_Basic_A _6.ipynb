{
 "cells": [
  {
   "cell_type": "code",
   "execution_count": null,
   "metadata": {},
   "outputs": [],
   "source": [
    "1. What are escape characters, and how do you use them?"
   ]
  },
  {
   "cell_type": "code",
   "execution_count": 17,
   "metadata": {},
   "outputs": [
    {
     "name": "stdout",
     "output_type": "stream",
     "text": [
      "n\\\n",
      "it\"sasf\n",
      "It's alright.\n",
      "sunny\n",
      "babu\n",
      "sunny\n",
      " \t babu\n"
     ]
    }
   ],
   "source": [
    "#escape characters are used when we want to insert a character which is illegal in a string then we use escape characters\n",
    "#we have different escape characters below are the example\n",
    "print(\"n\\\\\")\n",
    "print(\"it\\\"sasf\")\n",
    "print('It\\'s alright.')\n",
    "print(\"sunny\\nbabu\")\n",
    "print(\"sunny\\n \\t babu\")"
   ]
  },
  {
   "cell_type": "code",
   "execution_count": null,
   "metadata": {},
   "outputs": [],
   "source": [
    "2. What do the escape characters n and t stand for?"
   ]
  },
  {
   "cell_type": "code",
   "execution_count": null,
   "metadata": {},
   "outputs": [],
   "source": [
    "n and t stands for new line and tab space in a string below is the example \n",
    "print(\"sunny\\nbabu\")\n",
    "print(\"sunny\\n \\t babu\")"
   ]
  },
  {
   "cell_type": "code",
   "execution_count": null,
   "metadata": {},
   "outputs": [],
   "source": [
    "3. What is the way to include backslash characters in a string?"
   ]
  },
  {
   "cell_type": "code",
   "execution_count": null,
   "metadata": {},
   "outputs": [],
   "source": [
    "To include backslash in a string then we use \\\\ backslash\n",
    "ex:\n",
    "    print(\"n\\\\\")"
   ]
  },
  {
   "cell_type": "code",
   "execution_count": 18,
   "metadata": {},
   "outputs": [
    {
     "name": "stdout",
     "output_type": "stream",
     "text": [
      "Howl's Moving Castle\n"
     ]
    }
   ],
   "source": [
    "#4. The string \"Howl's Moving Castle\" is a correct value. Why isn't the single quote character in the word Howl's not escaped a problem?\n",
    "print(\"Howl's Moving Castle\")\n",
    "#here we are inserting single apastrape in between double quotes so it is not throwing an error"
   ]
  },
  {
   "cell_type": "code",
   "execution_count": 22,
   "metadata": {},
   "outputs": [
    {
     "name": "stdout",
     "output_type": "stream",
     "text": [
      "e\n",
      "Hello\n",
      "Hello\n",
      "lo, world!\n"
     ]
    }
   ],
   "source": [
    "#6. What are the values of the given expressions?\n",
    "#'Hello, world!'[1]\n",
    "print('Hello, world!'[1])\n",
    "print('Hello, world!'[0:5])\n",
    "print('Hello, world!'[:5])\n",
    "print('Hello, world!'[3:])"
   ]
  },
  {
   "cell_type": "code",
   "execution_count": 26,
   "metadata": {},
   "outputs": [
    {
     "name": "stdout",
     "output_type": "stream",
     "text": [
      "HELLO\n",
      "True\n",
      "hello\n",
      "\n"
     ]
    }
   ],
   "source": [
    "#7. What are the values of the following expressions?\n",
    "print('Hello'.upper())\n",
    "print('Hello'.upper().isupper())\n",
    "print('Hello'.upper().lower())\n"
   ]
  },
  {
   "cell_type": "code",
   "execution_count": null,
   "metadata": {},
   "outputs": [],
   "source": [
    "8. What are the values of the following expressions?"
   ]
  },
  {
   "cell_type": "code",
   "execution_count": 31,
   "metadata": {},
   "outputs": [
    {
     "name": "stdout",
     "output_type": "stream",
     "text": [
      "['Remember,', 'remember,', 'the', 'fifth', 'of', 'July.']\n"
     ]
    }
   ],
   "source": [
    "print('Remember, remember, the fifth of July.'.split())"
   ]
  },
  {
   "cell_type": "code",
   "execution_count": 39,
   "metadata": {},
   "outputs": [
    {
     "name": "stdout",
     "output_type": "stream",
     "text": [
      "There-can-only-one.\n"
     ]
    }
   ],
   "source": [
    "print('-'.join('There can only one.'.split()))"
   ]
  },
  {
   "cell_type": "code",
   "execution_count": null,
   "metadata": {},
   "outputs": [],
   "source": [
    "9. What are the methods for right-justifying, left-justifying, and centering a string?"
   ]
  },
  {
   "cell_type": "code",
   "execution_count": 11,
   "metadata": {},
   "outputs": [
    {
     "name": "stdout",
     "output_type": "stream",
     "text": [
      "god bless you---------------------------------------------------------------------------------------\n",
      "---------------------------------------------------------------------------------------god bless you\n",
      "%%%%%%%%%%%center is one%%%%%%%%%%%\n"
     ]
    }
   ],
   "source": [
    "#below are the methods for right,left,centre\n",
    "left_just=\"god bless you\"\n",
    "print(left_just.ljust(100,'-'))\n",
    "right_just=\"god bless you\"\n",
    "print(left_just.rjust(100,'-'))\n",
    "center_just=\"center is one\"\n",
    "print(center_just.center(35,'%'))"
   ]
  },
  {
   "cell_type": "code",
   "execution_count": null,
   "metadata": {},
   "outputs": [],
   "source": [
    "10. What is the best way to remove whitespace characters from the start or end?"
   ]
  },
  {
   "cell_type": "code",
   "execution_count": 37,
   "metadata": {},
   "outputs": [
    {
     "name": "stdout",
     "output_type": "stream",
     "text": [
      " suuny is good boy\n",
      "suuny is good boy   \n",
      "suuny is good boy\n"
     ]
    }
   ],
   "source": [
    "#we can remove whitespace characters from the start or end through strip build in function and by using join method\n",
    "s=' suuny is good boy   '\n",
    "r1=s.rstrip()\n",
    "l1=s.lstrip()\n",
    "c1=s.strip()\n",
    "print(r1)\n",
    "print(l1)\n",
    "print(c1)\n",
    "\n"
   ]
  }
 ],
 "metadata": {
  "kernelspec": {
   "display_name": "Python 3",
   "language": "python",
   "name": "python3"
  }
 },
 "nbformat": 4,
 "nbformat_minor": 4
}
