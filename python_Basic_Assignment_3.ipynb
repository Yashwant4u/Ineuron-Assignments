{
 "cells": [
  {
   "cell_type": "code",
   "execution_count": 9,
   "metadata": {},
   "outputs": [
    {
     "ename": "SyntaxError",
     "evalue": "invalid syntax (<ipython-input-9-368b3d9310d6>, line 2)",
     "output_type": "error",
     "traceback": [
      "\u001b[1;36m  File \u001b[1;32m\"<ipython-input-9-368b3d9310d6>\"\u001b[1;36m, line \u001b[1;32m2\u001b[0m\n\u001b[1;33m    *Because functions are re-usable and we can call our function from any where in the program or outside the program through import statement\u001b[0m\n\u001b[1;37m             ^\u001b[0m\n\u001b[1;31mSyntaxError\u001b[0m\u001b[1;31m:\u001b[0m invalid syntax\n"
     ]
    }
   ],
   "source": [
    "1.\tWhy are functions advantageous to have in your programs?\n",
    "*Because functions are re-usable and we can call our function from any where in the program or outside the program through import statement\n",
    "2.\tWhen does the code in a function run: when it's specified or when it's called?\n",
    "*Fucntion will run when it is called.\n",
    "3. What statement creates a function?\n",
    "   *def function_name(args)\n",
    "4. What is the difference between a function and a function call?\n",
    "  *A function is something where we include our code to perform a certain task where as function call is something where to perform a task where our code is written then we will call a function call to execute our task\n",
    "5. How many global scopes are there in a Python program? How many local scopes?\n",
    "*There are two scopes global and local\n",
    "=>global  scope means if we define a variable as global x(syntax) then x variable can be accessed from any place (inside or outside the function)\n",
    "=>Local scope means if we define a variable as x=10(syntax) then x variable can be accessed from inside  the function.outside the function we can’t able to access and cannot change any values.\n",
    "6. What happens to variables in a local scope when the function call returns?\n",
    "* def hello():\n",
    "    x=10\n",
    "    print(x)\n",
    "hello()\n",
    "when we call a function here it returns x value as 10 in above example:\n",
    "  **********local scope when function call \n",
    "    def hello():\n",
    "        x=10\n",
    "    print(x)=>here it gets an error where we are calling a variable outside the local scope\n",
    "    hence if variable is inside local scope it gives an output if we are caling outside the scope then we get an error\n",
    "hello()\n",
    "==>=>local scope variables are destroyed once function call completes and again if we need it we need to call again\n",
    "\n",
    "7. What is the concept of a return value? Is it possible to have a return value in an expression?\n",
    "=>return value will come in function at the end it returns the values of which we keep and after return if we include any statements then it will not return any statements.\n",
    "yes we can return a value in an expression but it should be in return statement only\n",
    "\n",
    "8. If a function does not have a return statement, what is the return value of a call to that function?\n",
    "=>return value of that function will be none defaulty.so you don't write statement then it wil return noneype\n",
    "ex:def hel():\n",
    "    result=1\n",
    "hel()\n",
    "a=hel()\n",
    "print(type(a))\n",
    "o./p:<class 'NoneType'>\n",
    "\n",
    "9. How do you make a function variable refer to the global variable?\n",
    "we can make a function variable global by using global keyword as below\n",
    "def hel():\n",
    "    global result=>making result as global\n",
    "    result=1\n",
    "    print(result)\n",
    "\n",
    "\n",
    "10. What is the data type of None?\n",
    "*data type of none type is None Type where it is not true not false or 0 as well as it is just none type\n",
    "11. What does the sentence import areallyourpetsnamederic do?\n",
    "*import is a keyword used to import all pre-defined modules or functions\n",
    "12. If you had a bacon() feature in a spam module, what would you call it after importing spam?\n",
    "*spam.bacon()\n",
    "13. What can you do to save a programme from crashing if it encounters an error?\n",
    "=>we can save a program from crashing by using exception handling where it will handle the error.\n",
    "14. What is the purpose of the try clause? What is the purpose of the except clause?\n",
    "*Try clause will execute our code and if it runs successfully then it goes to finally clause where as it fails it goes to except clause \n",
    "Try clause will check the condition first in the program if it gets an error then except clause will catch that error and return the name of the error\n",
    "\n"
   ]
  },
  {
   "cell_type": "code",
   "execution_count": 40,
   "metadata": {},
   "outputs": [],
   "source": [
    "def hel():\n",
    "    global result\n",
    "    result=1\n",
    "    print(result)\n"
   ]
  },
  {
   "cell_type": "code",
   "execution_count": 41,
   "metadata": {},
   "outputs": [
    {
     "name": "stdout",
     "output_type": "stream",
     "text": [
      "1\n"
     ]
    }
   ],
   "source": [
    "hel()"
   ]
  },
  {
   "cell_type": "code",
   "execution_count": 42,
   "metadata": {},
   "outputs": [
    {
     "name": "stdout",
     "output_type": "stream",
     "text": [
      "1\n"
     ]
    }
   ],
   "source": [
    "print(result)"
   ]
  }
 ],
 "metadata": {
  "kernelspec": {
   "display_name": "Python 3",
   "language": "python",
   "name": "python3"
  },
  "language_info": {
   "codemirror_mode": {
    "name": "ipython",
    "version": 3
   },
   "file_extension": ".py",
   "mimetype": "text/x-python",
   "name": "python",
   "nbconvert_exporter": "python",
   "pygments_lexer": "ipython3",
   "version": "3.8.5"
  }
 },
 "nbformat": 4,
 "nbformat_minor": 4
}
