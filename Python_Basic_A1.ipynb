{
 "cells": [
  {
   "cell_type": "code",
   "execution_count": null,
   "metadata": {},
   "outputs": [],
   "source": [
    "1. In the below elements which of them are values or an expression? eg:- values can be integer or string and expressions will be mathematical operators.\n",
    "* \n",
    "'hello'-value\n",
    "-87.8-value\n",
    "- ->expression\n",
    "/ ->expression\n",
    "+\t->expression\n",
    "6 ->value\n",
    "\n",
    "2. What is the difference between string and variable?\n",
    "String ->An expression which is enclosed between double quotes or single values is called a string\n",
    "Variable->Variable is something which holds the memory space depends upon the data type\n",
    "\n",
    "3. Describe three different data types.\n",
    "We have integer,float,complex ,string,Boolean data type\n",
    "\n",
    "4. What is an expression made up of? What do all expressions do?\n",
    "An expression is made up of values,operators which produces a result.All expressions will produce a result \n",
    "5. This assignment statements, like spam = 10. What is the difference between an expression and a statement?\n",
    "An expression is made up of values,operators which produces a result.All expressions will produce a result  and statement is an nothing but step by step instruction which we give to compiler to action it like print statement etc\n",
    "\n",
    "6. After running the following code, what does the variable bacon contain?\n",
    "bacon = 22\n",
    "bacon + 1====23\n",
    "\n",
    "7. What should the values of the following two terms be?\n",
    "'spam' + 'spamspam'spamspamspam\n",
    "'spam' * 3->spamspamspam\n",
    "Both results same value\n",
    "\n",
    "8. Why is eggs a valid variable name while 100 is invalid?\n",
    "Eggs  is combination of characters where python interpreter takes it as a string and 100 is an integer value so 100 is invalid \n",
    "0\n",
    "9. What three functions can be used to get the integer, floating-point number, or string version of a value?\n",
    "To get integer=a=int(input(“enter a integer”))\n",
    "b=float(input(“enter a integer”))\n",
    "c=input(“”)\n",
    "python takes normally input as a string if we want to specify certain data type then we need to enter specific data type\n",
    "\n",
    "10. Why does this expression cause an error? How can you fix it?\n",
    "'I have eaten ' + 99 + ' burritos.'->HERE WE HAVE INTERGER SO IT WILL GET AN ERROR WHERE STRING AND INTEGER CAN'T CONCAT\n",
    "‘i have eaten’ +str(99)+’burritos’\n",
    "\n",
    "\n"
   ]
  }
 ],
 "metadata": {
  "kernelspec": {
   "display_name": "Python 3",
   "language": "python",
   "name": "python3"
  },
  "language_info": {
   "codemirror_mode": {
    "name": "ipython",
    "version": 3
   },
   "file_extension": ".py",
   "mimetype": "text/x-python",
   "name": "python",
   "nbconvert_exporter": "python",
   "pygments_lexer": "ipython3",
   "version": "3.8.5"
  }
 },
 "nbformat": 4,
 "nbformat_minor": 4
}
