{
 "cells": [
  {
   "cell_type": "code",
   "execution_count": null,
   "metadata": {},
   "outputs": [],
   "source": [
    "1.\tWhat exactly is []?\n",
    "*[ ]-represents a empty list \n",
    "2. In a list of values stored in a variable called spam, how would you assign the value 'hello' as the third value? (Assume [2, 4, 6, 8, 10] are in spam.)\n",
    "Spam[2]=’hello’\n",
    "Let's pretend the spam includes the list ['a', 'b', 'c', 'd'] for the next three queries.\n",
    "2.\tWhat is the value of spam[int(int('3' * 2) / 11)]?\n",
    "*d\n",
    "4. What is the value of spam[-1]?\n",
    "*d\n",
    "5. What is the value of spam[:2]?\n",
    "*a,b\n",
    "Let's pretend bacon has the list [3.14, 'cat,' 11, 'cat,' True] for the next three questions.  \n",
    "6. What is the value of bacon.index('cat')?\n",
    "*1\n",
    "7. How does bacon.append(99) change the look of the list value in bacon?\n",
    "*[3.14,’cat’,11,’cat’,True,99]\n",
    "8. How does bacon.remove('cat') change the look of the list in bacon?\n",
    "*[3.14,,11,’cat’,True,99]\n",
    "9. What are the list concatenation and list replication operators?\n",
    "*list concatenation operator means it will add two lists where as list replication means it will multiply the same list by the times how we give\n",
    "ex:l1=[1,2,3]\n",
    "    l2=[2,4]\n",
    "    list concatenation l1 + l2 =[1,2,3,2,4]\n",
    "    list replication l1 * 2=[1, 2, 3, 1, 2, 3]\n",
    "\n",
    "10. What is difference between the list methods append() and insert()?\n",
    "*Append will add the elements at the last of the list where as insert will add at the particular index specified in the list \n",
    "11. What are the two methods for removing items from a list?\n",
    "*We can user remove method and delete method\n",
    "12. Describe how list values and string values are identical.\n",
    "list and string values are identical in terms of accessing the values.as in both of them we used to access them through index.only in this case it is identiacl remaining other cases it is different\n",
    "\n",
    "13. What's the difference between tuples and lists?\n",
    "List are mutable where as tuples are imutable\n",
    "14. How do you type a tuple value that only contains the integer 42?\n",
    "a=(42,)\n",
    "here if we don't specify , then we will get as result integer where as if we specify \",\" for a single element then it is a tuple other wise it is a integer\n",
    "\n",
    "15. How do you get a list value's tuple form? How do you get a tuple value's list form?\n",
    "*******\n",
    "LIST TO TUPLE\n",
    "Li=[1,2,3]\n",
    "Tuple(Li)=(1,2,3)  and List(Li)=[1,2,3]\n",
    "16. Variables that \"contain\" list values are not necessarily lists themselves. Instead, what do they contain?\n",
    ">>They can have integers,string etc\n",
    "17. How do you distinguish between copy.copy() and copy.deepcopy()?\n",
    "*copy.copy will create a reference oject and then points it to original where if we change any value in copied object then original object will also get reflected\n",
    "*deep.copy will create a child object where if we change in value in copied object then original object will not get changed.\n"
   ]
  },
  {
   "cell_type": "code",
   "execution_count": null,
   "metadata": {},
   "outputs": [],
   "source": []
  }
 ],
 "metadata": {
  "kernelspec": {
   "display_name": "Python 3",
   "language": "python",
   "name": "python3"
  },
  "language_info": {
   "codemirror_mode": {
    "name": "ipython",
    "version": 3
   },
   "file_extension": ".py",
   "mimetype": "text/x-python",
   "name": "python",
   "nbconvert_exporter": "python",
   "pygments_lexer": "ipython3",
   "version": "3.8.5"
  }
 },
 "nbformat": 4,
 "nbformat_minor": 4
}
