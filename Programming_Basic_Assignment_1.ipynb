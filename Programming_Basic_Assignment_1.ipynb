{
 "cells": [
  {
   "cell_type": "code",
   "execution_count": 2,
   "metadata": {},
   "outputs": [
    {
     "name": "stdout",
     "output_type": "stream",
     "text": [
      "Hello Python\n"
     ]
    }
   ],
   "source": [
    "##1.\tWrite a Python program to print \"Hello Python\"?\n",
    "print(\"Hello Python\")"
   ]
  },
  {
   "cell_type": "code",
   "execution_count": null,
   "metadata": {},
   "outputs": [],
   "source": [
    "##2.\tWrite a Python program to do arithmetical operations addition and division.?\n",
    "a=int(input(\" enter a number\"))\n",
    "b=int(input(\"enter a number\"))\n",
    "##ADD\n",
    "c=a+b\n",
    "d=a/b\n",
    "print(\"addition\",c)\n",
    "print(\"division\",int(d))"
   ]
  },
  {
   "cell_type": "code",
   "execution_count": null,
   "metadata": {},
   "outputs": [],
   "source": [
    "##3.\tWrite a Python program to find the area of a triangle?\n",
    "a=int(input(\" enter a number\"))\n",
    "b=int(input(\"enter a number\"))\n",
    "Area=0.5*a*b\n",
    "print(Area)\n",
    "\n"
   ]
  },
  {
   "cell_type": "code",
   "execution_count": 11,
   "metadata": {},
   "outputs": [
    {
     "name": "stdout",
     "output_type": "stream",
     "text": [
      " enter a number4\n",
      "enter a number5\n",
      "5 4\n"
     ]
    }
   ],
   "source": [
    "##4.\tWrite a Python program to swap two variables?\n",
    "a=int(input(\" enter a number\"))\n",
    "b=int(input(\"enter a number\"))\n",
    "c=a\n",
    "a=b\n",
    "b=c\n",
    "print(a,b)"
   ]
  },
  {
   "cell_type": "code",
   "execution_count": 127,
   "metadata": {},
   "outputs": [
    {
     "name": "stdout",
     "output_type": "stream",
     "text": [
      "2\n"
     ]
    }
   ],
   "source": [
    "##5.\tWrite a Python program to generate a random number?\n",
    "\n",
    "\n",
    "print(random.randint(0,9))\n"
   ]
  }
 ],
 "metadata": {
  "kernelspec": {
   "display_name": "Python 3",
   "language": "python",
   "name": "python3"
  },
  "language_info": {
   "codemirror_mode": {
    "name": "ipython",
    "version": 3
   },
   "file_extension": ".py",
   "mimetype": "text/x-python",
   "name": "python",
   "nbconvert_exporter": "python",
   "pygments_lexer": "ipython3",
   "version": "3.8.5"
  }
 },
 "nbformat": 4,
 "nbformat_minor": 4
}
