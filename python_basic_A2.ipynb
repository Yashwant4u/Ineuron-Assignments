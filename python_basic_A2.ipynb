{
 "cells": [
  {
   "cell_type": "code",
   "execution_count": 2,
   "metadata": {},
   "outputs": [
    {
     "ename": "SyntaxError",
     "evalue": "invalid syntax (<ipython-input-2-498b2979c9e2>, line 2)",
     "output_type": "error",
     "traceback": [
      "\u001b[1;36m  File \u001b[1;32m\"<ipython-input-2-498b2979c9e2>\"\u001b[1;36m, line \u001b[1;32m2\u001b[0m\n\u001b[1;33m    Two values –True,False\u001b[0m\n\u001b[1;37m        ^\u001b[0m\n\u001b[1;31mSyntaxError\u001b[0m\u001b[1;31m:\u001b[0m invalid syntax\n"
     ]
    }
   ],
   "source": [
    "1.What are the two values of the Boolean data type? How do you write them?\n",
    "Two values –True,False\n",
    "Bool(x)->If we don’t give any argument it will take it as false and if we give any argument it will give true as result and it is used in scenario to tell whether an expression is correct or not\n",
    "\n",
    "2. What are the three different types of Boolean operators?\n",
    "Boolean operators also called as logical operators where operators are logical AND,logical OR,logical NOT\n",
    "3. Make a list of each Boolean operator's truth tables (i.e. every possible combination of Boolean values for the operator and what it evaluate ).\n",
    " OR\t\t     AND                NOT\n",
    " 0 0 0\t\t0 0 0\t\t  1    0\n",
    "1 0 1 \t\t0 1 0     \t \t0    1\n",
    "0 1 1\t   \t1 0 0\n",
    "1 1 1\t\t1 1 1\n",
    "4. What are the values of the following expressions?\n",
    "(5 > 4) and (3 == 5)=>fALSE\n",
    "not (5 > 4)=>fALSE\n",
    "(5 > 4) or (3 == 5)=>TRUE\n",
    "not ((5 > 4) or (3 == 5))=>FALSE\n",
    "(True and True) and (True == False)=>False\n",
    "(not False) or (not True)=>True\n",
    "5. What are the six comparison operators?\n",
    "* >\n",
    "* <\n",
    "* >=\n",
    "* <=\n",
    "* !=\n",
    "* ==\n",
    "6. How do you tell the difference between the equal to and assignment operators?Describe a condition and when you would use one.\n",
    "Equal operator is used to compare left side and right side values where as assignemnt operator will assign a value which is in right \n",
    "side one to left side one\n",
    "ex:a=10=>assignemnt operator which assigns a the value 10\n",
    "    if a==10:\n",
    "        print(\"correct\")  ##it compares the the value of a if it is 10 it will print correct.we can use both as per our requirement \n",
    "    else:\n",
    "        print(\"incorrect\")\n",
    "\n",
    "7. Identify the three blocks in this code:\n",
    "spam = 0\n",
    "if spam == 10:\n",
    "    print('eggs')  ##-first block\n",
    "if spam > 5:    ## second block\n",
    "    print('bacon')\n",
    "else:    ## third block\n",
    "    print('ham')\n",
    "    print('spam')\n",
    "    print('spam')\n",
    "8. Write code that prints Hello if 1 is stored in spam, prints Howdy if 2 is stored in spam, and prints Greetings! if anything else is stored in spam.\n",
    "spam=int(input(\"enter sapm num\"))\n",
    "if spam == 1:        \n",
    "   print('Hello')\n",
    "else:\n",
    "    if spam ==2:\n",
    "        print('Howdy');\n",
    "    else:\n",
    "        print('greetings')\n",
    "\n",
    "9.If your programme is stuck in an endless loop, what keys you’ll press?\n",
    "\n",
    "CTRL + C\n",
    "\n",
    "10. How can you tell the difference between break and continue?\n",
    "\n",
    "continue will skip the value if we don't want the value and goes to next iteration where as break statement will makes the program to come out of the loop \n",
    "\n",
    "11. In a for loop, what is the difference between range(10), range(0, 10), and range(0, 10, 1)?\n",
    "there is no differrence in the above given range functions where range(0,10,1)-gives the same output and defaulty we have 1 at step place \n",
    "12. Write a short program that prints the numbers 1 to 10 using a for loop. Then write an equivalent program that prints the numbers 1 to 10 using a while loop.\n",
    "for i in range(1,11):\n",
    "    print(i)\n",
    "j=1\n",
    "while j<=10:\n",
    "    print(j)\n",
    "13. If you had a function named bacon() inside a module named spam, how would you call it after importing spam?\n",
    "spam.balcon()\n"
   ]
  }
 ],
 "metadata": {
  "kernelspec": {
   "display_name": "Python 3",
   "language": "python",
   "name": "python3"
  },
  "language_info": {
   "codemirror_mode": {
    "name": "ipython",
    "version": 3
   },
   "file_extension": ".py",
   "mimetype": "text/x-python",
   "name": "python",
   "nbconvert_exporter": "python",
   "pygments_lexer": "ipython3",
   "version": "3.8.5"
  }
 },
 "nbformat": 4,
 "nbformat_minor": 4
}
