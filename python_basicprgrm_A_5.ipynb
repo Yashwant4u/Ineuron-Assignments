{
 "cells": [
  {
   "cell_type": "code",
   "execution_count": null,
   "id": "ce71990f",
   "metadata": {},
   "outputs": [],
   "source": [
    "1. Write a Python Program to Find LCM?\n",
    "2. Write a Python Program to Find HCF?\n",
    "3. Write a Python Program to Convert Decimal to Binary, Octal and Hexadecimal?\n",
    "4. Write a Python Program To Find ASCII value of a character?\n",
    "5. Write a Python Program to Make a Simple Calculator with 4 basic mathematical operations?  "
   ]
  },
  {
   "cell_type": "code",
   "execution_count": 2,
   "id": "70a5899b",
   "metadata": {},
   "outputs": [
    {
     "name": "stdout",
     "output_type": "stream",
     "text": [
      "enter a number123\n",
      "enter a number234\n",
      "LCM is  9594\n"
     ]
    }
   ],
   "source": [
    "#Write a Python Program to Find LCM?\n",
    "\n",
    "num1 = int(input(\"enter a number\"))\n",
    "num2 = int(input(\"enter a number\"))\n",
    "\n",
    "\n",
    "def compute(num1,num2):\n",
    "    if num1 > num2:\n",
    "        higher = num1\n",
    "    else:\n",
    "        higher = num2\n",
    "    value = higher\n",
    "\n",
    "    while True:\n",
    "        if higher % num1 == 0 and higher % num2 == 0:\n",
    "            print(\"LCM is \",higher)\n",
    "            break\n",
    "        else:\n",
    "            higher = higher + value\n",
    "\n",
    "compute(num1,num2)\n",
    "\n",
    "\n"
   ]
  },
  {
   "cell_type": "code",
   "execution_count": 6,
   "id": "d98b4a1d",
   "metadata": {},
   "outputs": [
    {
     "name": "stdout",
     "output_type": "stream",
     "text": [
      "enter a number24\n",
      "enter a number236\n",
      "hcf is  12\n"
     ]
    }
   ],
   "source": [
    "#2. Write a Python Program to Find HCF?\n",
    "\n",
    "h1 = int(input(\"enter a number\"))\n",
    "h2 = int(input(\"enter a number2\"))\n",
    "while h1%h2 !=0:\n",
    "    rem = h1%h2\n",
    "    h1=h2\n",
    "    h2=rem\n",
    "\n",
    "print(\"hcf is \",h2)"
   ]
  },
  {
   "cell_type": "code",
   "execution_count": 14,
   "id": "c08b3c5f",
   "metadata": {},
   "outputs": [
    {
     "name": "stdout",
     "output_type": "stream",
     "text": [
      "enter a number23\n",
      "0b10111\n",
      "0o27\n",
      "0x17\n"
     ]
    }
   ],
   "source": [
    "#3. Write a Python Program to Convert Decimal to Binary, Octal and Hexadecimal?\n",
    "\n",
    "num3 = int(input(\"enter a number\"))\n",
    "\n",
    "def num(num3):\n",
    "    binary = bin(num3)\n",
    "    print(binary)\n",
    "    octal = oct(num3)\n",
    "    print(octal)\n",
    "    hexa = hex(num3)\n",
    "    print(hexa)\n",
    "    \n",
    "num(num3)\n",
    "    \n"
   ]
  },
  {
   "cell_type": "code",
   "execution_count": 12,
   "id": "9e3118f8",
   "metadata": {},
   "outputs": [
    {
     "name": "stdout",
     "output_type": "stream",
     "text": [
      "enter a characterF\n",
      "70\n"
     ]
    }
   ],
   "source": [
    "#4. Write a Python Program To Find ASCII value of a character?\n",
    "n = input(\"enter a character\")\n",
    "c = ord(n)\n",
    "print(c)"
   ]
  },
  {
   "cell_type": "code",
   "execution_count": 8,
   "id": "0250ca75",
   "metadata": {},
   "outputs": [
    {
     "name": "stdout",
     "output_type": "stream",
     "text": [
      "enter a number1\n",
      "enter a number2\n",
      "enter an operation to dosdfsadf\n",
      "keep an operation\n"
     ]
    }
   ],
   "source": [
    "#5. Write a Python Program to Make a Simple Calculator with 4 basic mathematical operations?  \n",
    "\n",
    "a = int(input(\"enter a number\"))\n",
    "b = int(input(\"enter a number\"))\n",
    "c = input(\"enter an operation to do\")\n",
    "\n",
    "def switch(c):\n",
    "    if c == \"ADD\":\n",
    "        return a+b\n",
    "    elif c == \"SUB\":\n",
    "        return a-b\n",
    "    else:\n",
    "        print(\"keep an operation\")\n",
    "\n",
    "switch(c)"
   ]
  },
  {
   "cell_type": "code",
   "execution_count": null,
   "id": "07dfb25f",
   "metadata": {},
   "outputs": [],
   "source": []
  }
 ],
 "metadata": {
  "kernelspec": {
   "display_name": "Python 3 (ipykernel)",
   "language": "python",
   "name": "python3"
  },
  "language_info": {
   "codemirror_mode": {
    "name": "ipython",
    "version": 3
   },
   "file_extension": ".py",
   "mimetype": "text/x-python",
   "name": "python",
   "nbconvert_exporter": "python",
   "pygments_lexer": "ipython3",
   "version": "3.9.13"
  }
 },
 "nbformat": 4,
 "nbformat_minor": 5
}
